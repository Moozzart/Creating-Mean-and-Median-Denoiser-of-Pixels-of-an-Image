{
 "cells": [
  {
   "cell_type": "markdown",
   "metadata": {},
   "source": [
    "## Task: Make A Median And Mean Denoiser By Self Creating Noise "
   ]
  },
  {
   "cell_type": "code",
   "execution_count": 14,
   "metadata": {},
   "outputs": [],
   "source": [
    "#importing important libraries\n",
    "import numpy as np\n",
    "from PIL import Image"
   ]
  },
  {
   "cell_type": "code",
   "execution_count": 17,
   "metadata": {},
   "outputs": [],
   "source": [
    "#function to create noise in an image by resizing it to (400,400) pixels\n",
    "#imputs are path(photoname), size of the photo, c(iteration number or image number) and l is the empty list \n",
    "#which would be filled up by the pixels position, the pixel value of which can later be altered by mean or \n",
    "#median of surrounding pixels   \n",
    "def noise(path,size,c,l):\n",
    "    out = Image.open(path).resize(size)  \n",
    "    width, height = out.size\n",
    "    pixel=out.load()\n",
    "    lj=[]\n",
    "    lk=[]\n",
    "    \n",
    "    for i in range(round(width*height*0.05)):\n",
    "        x=np.random.randint(low=0,high=width)\n",
    "        y=np.random.randint(low=0,high=width)\n",
    "        j=np.random.randint(low=0,high=width)\n",
    "        k=np.random.randint(low=0,high=width)\n",
    "        lj.append(j)\n",
    "        lk.append(k)\n",
    "        l.append((j,k))\n",
    "        #print('pixel tuple',(j,k), 'has pixel value',(x,y,100) )\n",
    "        pixel[j,k] = (x, y,100)\n",
    "    out.save('out_'+str(c)+'_noise.jpg')\n",
    "    return l\n",
    "#In the next function, I denoised the noised images by passing the path of noised image, by taking surrounding 3x3 matrix\n",
    "#and taking the median of those pixels by sorting the members list. The resulting images are saved with 'median' in their names\n",
    "def median_denoising(path,c,l): \n",
    "    out1 = Image.open(path)\n",
    "    #width, height = out1.size\n",
    "    width=400\n",
    "    height=400\n",
    "    members = [(0,0)] * 9\n",
    "    newimg = Image.new(\"RGB\",(width,height),\"white\")\n",
    "\n",
    "    for i,j in l:\n",
    "        if i > 0 and j >0 and i<width-1 and j<height-1:\n",
    "            members[0] = out1.getpixel((i-1,j-1))\n",
    "            members[1] = out1.getpixel((i-1,j))\n",
    "            members[2] = out1.getpixel((i-1,j+1))\n",
    "            members[3] = out1.getpixel((i,j-1))\n",
    "            members[4] = out1.getpixel((i,j))\n",
    "            members[5] = out1.getpixel((i,j+1))\n",
    "            members[6] = out1.getpixel((i+1,j-1))\n",
    "            members[7] = out1.getpixel((i+1,j))\n",
    "            members[8] = out1.getpixel((i+1,j+1))\n",
    "            members.sort()\n",
    "            out1.putpixel((i,j),(members[4]))\n",
    "        else: continue\n",
    "    out1.save('out_'+str(c)+'_median.jpg')\n",
    "#In the next function, I denoised the noised images by passing the path of noised image, by taking surrounding 3x3 matrix\n",
    "#and taking the mean of those pixels by zipping the members list and taking its mean in res. The resulting images are saved with 'mean' \n",
    "#in their names\n",
    "def mean_denoising(path,c,l):\n",
    "    out1 = Image.open(path)\n",
    "    #width, height = out1.size\n",
    "    width=400\n",
    "    height=400    \n",
    "    members = [(0,0)] * 9\n",
    "    newimg = Image.new(\"RGB\",(width,height),\"white\")\n",
    "\n",
    "    for i,j in l:\n",
    "        if i > 0 and j >0 and i<width-1 and j<height-1:\n",
    "            members[0] = out1.getpixel((i-1,j-1))\n",
    "            members[1] = out1.getpixel((i-1,j))\n",
    "            members[2] = out1.getpixel((i-1,j+1))\n",
    "            members[3] = out1.getpixel((i,j-1))\n",
    "            members[4] = out1.getpixel((i,j))\n",
    "            members[5] = out1.getpixel((i,j+1))\n",
    "            members[6] = out1.getpixel((i+1,j-1))\n",
    "            members[7] = out1.getpixel((i+1,j))\n",
    "            members[8] = out1.getpixel((i+1,j+1))\n",
    "            res = [int(sum(ele) / len(members)) for ele in zip(*members)]\n",
    "            res=tuple(res)\n",
    "            out1.putpixel((i,j),(res))\n",
    "        else: continue\n",
    "    out1.save('out_'+str(c)+'_mean.jpg')"
   ]
  },
  {
   "cell_type": "code",
   "execution_count": null,
   "metadata": {},
   "outputs": [],
   "source": [
    "# all the images were resized to (400x400) and by looping through the photo number and passing respective\n",
    "# inputs in the functions used, I obtained the noised, denoised median and denoised mean images\n",
    "size=(400,400)\n",
    "for i in range(1,12):\n",
    "    l=noise(str(i)+'.jpg',size,i,l=[])\n",
    "    median_denoising('out_'+str(i)+'_noise.jpg',i,l)\n",
    "    mean_denoising('out_'+str(i)+'_noise.jpg',i,l)\n",
    "    "
   ]
  },
  {
   "cell_type": "code",
   "execution_count": null,
   "metadata": {},
   "outputs": [],
   "source": []
  }
 ],
 "metadata": {
  "kernelspec": {
   "display_name": "Python 3",
   "language": "python",
   "name": "python3"
  },
  "language_info": {
   "codemirror_mode": {
    "name": "ipython",
    "version": 3
   },
   "file_extension": ".py",
   "mimetype": "text/x-python",
   "name": "python",
   "nbconvert_exporter": "python",
   "pygments_lexer": "ipython3",
   "version": "3.7.4"
  }
 },
 "nbformat": 4,
 "nbformat_minor": 2
}
